{
 "cells": [
  {
   "cell_type": "code",
   "execution_count": null,
   "id": "69b49ff7-e263-4346-b50f-285b5fd081ca",
   "metadata": {
    "tags": []
   },
   "outputs": [],
   "source": [
    "Current_height= 0 \n",
    "\n",
    "Height= 100\n",
    "\n",
    "Jump_back= 3/5\n",
    "\n",
    "while Height>0:\n",
    "    Height*Jump_back=Current_height,\n",
    "    print(Current_height), \n",
    "    Height=Current_height\n",
    "\n",
    "\n"
   ]
  },
  {
   "cell_type": "code",
   "execution_count": null,
   "id": "6ca8b881-8401-45a0-856e-977a98049171",
   "metadata": {},
   "outputs": [],
   "source": []
  }
 ],
 "metadata": {
  "kernelspec": {
   "display_name": "Python 3 (ipykernel)",
   "language": "python",
   "name": "python3"
  },
  "language_info": {
   "codemirror_mode": {
    "name": "ipython",
    "version": 3
   },
   "file_extension": ".py",
   "mimetype": "text/x-python",
   "name": "python",
   "nbconvert_exporter": "python",
   "pygments_lexer": "ipython3",
   "version": "3.10.12"
  }
 },
 "nbformat": 4,
 "nbformat_minor": 5
}
